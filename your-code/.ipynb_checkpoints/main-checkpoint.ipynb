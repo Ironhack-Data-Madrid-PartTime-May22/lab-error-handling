{
 "cells": [
  {
   "cell_type": "markdown",
   "metadata": {},
   "source": [
    "# Antes de empezar:\n",
    "- Lee el archivo README.md\n",
    "- Comenta todo lo que puedas y utiliza los recursos del archivo README.md\n",
    "- ¡Feliz aprendizaje!"
   ]
  },
  {
   "cell_type": "code",
   "execution_count": 2,
   "metadata": {},
   "outputs": [],
   "source": [
    "# Libraries\n",
    "import math"
   ]
  },
  {
   "cell_type": "markdown",
   "metadata": {},
   "source": [
    "# Desafío 1 - Manejo de Errores Usando Sentencias `if\n",
    "\n",
    "En muchos casos, somos capaces de identificar los problemas que pueden surgir en nuestro código y manejar esos problemas con una sentencia `if`. A veces nos gustaría manejar diferentes tipos de entradas y somos conscientes de que más adelante en el código, tendremos que escribir dos ramas diferentes de código para los dos casos diferentes que permitimos al principio.\n",
    "\n",
    "En las 3 celdas de abajo, añade una sentencia `if` que maneje los dos tipos de entrada permitidos en las funciones."
   ]
  },
  {
   "cell_type": "code",
   "execution_count": 3,
   "metadata": {},
   "outputs": [
    {
     "data": {
      "text/plain": [
       "1.0"
      ]
     },
     "execution_count": 3,
     "metadata": {},
     "output_type": "execute_result"
    }
   ],
   "source": [
    "# Modifica el código de abajo para manejar números positivos y negativos añadiendo una sentencia if y realizando una transformación:\n",
    "\n",
    "\n",
    "def sqrt_for_all(x):\n",
    "    \"\"\"\n",
    "    Esta función tomará cualquier número real y \n",
    "    devuelve la raíz cuadrada de su magnitud.\n",
    "    \n",
    "    Input: Real number\n",
    "    Output: Real number\n",
    "    \n",
    "    Sample Input: -4\n",
    "    Sample Output: 2.0\n",
    "    \"\"\"\n",
    "    if x < 0:\n",
    "        x = x*(-1)\n",
    "    return math.sqrt(x)\n",
    "\n",
    "sqrt_for_all(-1)"
   ]
  },
  {
   "cell_type": "code",
   "execution_count": 4,
   "metadata": {},
   "outputs": [
    {
     "data": {
      "text/plain": [
       "0"
      ]
     },
     "execution_count": 4,
     "metadata": {},
     "output_type": "execute_result"
    }
   ],
   "source": [
    "# Modifique el código que aparece a continuación para manejar también el cero. En el caso de cero, devolver cero\n",
    "\n",
    "def divide(x, y):\n",
    "    \"\"\"\n",
    "    Esta función tomará dos números reales cualesquiera \n",
    "    y devuelve su cociente. \n",
    "    Si el denominador es cero, devolvemos cero.\n",
    "    \n",
    "    Input: Real number\n",
    "    Output: Real number\n",
    "    \n",
    "    Sample Input: 5, 1\n",
    "    Sample Output: 5.0\n",
    "    \"\"\"\n",
    "    if y == 0:\n",
    "        return 0\n",
    "    return x / y\n",
    "\n",
    "divide(5, 0)"
   ]
  },
  {
   "cell_type": "code",
   "execution_count": 5,
   "metadata": {},
   "outputs": [
    {
     "data": {
      "text/plain": [
       "[11]"
      ]
     },
     "execution_count": 5,
     "metadata": {},
     "output_type": "execute_result"
    }
   ],
   "source": [
    "# Modifica la función de abajo para que tome un número y una lista o dos números. \n",
    "# Si tomamos dos números, los suma y devuelve una lista de longitud 1. \n",
    "# En caso contrario, suma el número a cada elemento de la lista y devuelve la lista resultante.\n",
    "\n",
    "\n",
    "def add_elements(a, l):\n",
    "    \"\"\"\n",
    "    Esta función toma dos números o una lista y un número \n",
    "    y añade el número a todos los elementos de la lista.\n",
    "    Si la función sólo toma dos números, devuelve una lista \n",
    "    de longitud uno que es la suma de los números.\n",
    "    \n",
    "    Input: number and list or two numbers\n",
    "    Output: list\n",
    "    \n",
    "    Sample Input: 5, 6\n",
    "    Sample Output: [11]\n",
    "    \"\"\"\n",
    "    if int == type(l):\n",
    "        b = a + l\n",
    "        resultado = []\n",
    "        resultado.append(b)\n",
    "        return resultado\n",
    "    else:\n",
    "        return [a + element for element in l]\n",
    "        \n",
    "add_elements(5, 6)"
   ]
  },
  {
   "cell_type": "markdown",
   "metadata": {},
   "source": [
    "# Reto 2 - Corregir errores para que el código se ejecute\n",
    "\n",
    "A veces el error no está causado por la entrada sino por el propio código. En las 2 celdas siguientes, examine el error y corrija el código para evitar el error."
   ]
  },
  {
   "cell_type": "code",
   "execution_count": 8,
   "metadata": {},
   "outputs": [
    {
     "data": {
      "text/plain": [
       "14"
      ]
     },
     "execution_count": 8,
     "metadata": {},
     "output_type": "execute_result"
    }
   ],
   "source": [
    "# Modify the code below:\n",
    "\n",
    "l = [1,2,3,4]\n",
    "\n",
    "sum([element + 1 for element in l])"
   ]
  },
  {
   "cell_type": "code",
   "execution_count": 9,
   "metadata": {},
   "outputs": [
    {
     "name": "stdout",
     "output_type": "stream",
     "text": [
      "The current element in the loop is 1\n",
      "The current element in the loop is 2\n",
      "The current element in the loop is 3\n",
      "The current element in the loop is 4\n"
     ]
    }
   ],
   "source": [
    "# Modify the code below:\n",
    "\n",
    "l = [1,2,3,4]\n",
    "\n",
    "for element in l:\n",
    "    print(\"The current element in the loop is\", element)"
   ]
  },
  {
   "cell_type": "markdown",
   "metadata": {},
   "source": [
    "# Bonus Challenge - Raise Errors on Your Own\n",
    "\n",
    "There are cases where you need to alert your users of a problem even if the input will not immediately produce an error. In these cases you may want to throw an error yourself to bring attention to the problem. In the 2 cells below, write the functions as directed and add the appropriate errors using the `raise` clause. Make sure to add a meaningful error message."
   ]
  },
  {
   "cell_type": "code",
   "execution_count": null,
   "metadata": {},
   "outputs": [],
   "source": [
    "def log_square(x):\n",
    "    \"\"\"\n",
    "    This function takes a numeric value and returns the \n",
    "    natural log of the square of the number.\n",
    "    The function raises an error if the number is equal to zero.\n",
    "    Use the math.log function in this funtion.\n",
    "    \n",
    "    Input: Real number\n",
    "    Output: Real number or error\n",
    "    \n",
    "    Sample Input: 5\n",
    "    Sample Output: 3.21887\n",
    "    \"\"\"\n",
    "    \n",
    "    # Your code here:"
   ]
  },
  {
   "cell_type": "code",
   "execution_count": null,
   "metadata": {},
   "outputs": [],
   "source": [
    "def check_capital(x):\n",
    "    \"\"\"\n",
    "    This function returns true if the string contains \n",
    "    at least one capital letter and throws an error otherwise.\n",
    "    \n",
    "    Input: String\n",
    "    Output: Bool or error message\n",
    "    \n",
    "    Sample Input: 'John'\n",
    "    Sample Output: True\n",
    "    \"\"\"\n",
    "    \n",
    "    # Your code here:"
   ]
  }
 ],
 "metadata": {
  "kernelspec": {
   "display_name": "Python 3 (ipykernel)",
   "language": "python",
   "name": "python3"
  },
  "language_info": {
   "codemirror_mode": {
    "name": "ipython",
    "version": 3
   },
   "file_extension": ".py",
   "mimetype": "text/x-python",
   "name": "python",
   "nbconvert_exporter": "python",
   "pygments_lexer": "ipython3",
   "version": "3.10.9"
  },
  "toc": {
   "base_numbering": 1,
   "nav_menu": {},
   "number_sections": true,
   "sideBar": true,
   "skip_h1_title": false,
   "title_cell": "Table of Contents",
   "title_sidebar": "Contents",
   "toc_cell": false,
   "toc_position": {},
   "toc_section_display": true,
   "toc_window_display": false
  }
 },
 "nbformat": 4,
 "nbformat_minor": 2
}
